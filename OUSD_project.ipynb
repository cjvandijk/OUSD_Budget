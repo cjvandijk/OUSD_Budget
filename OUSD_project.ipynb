{
 "cells": [
  {
   "cell_type": "markdown",
   "metadata": {},
   "source": [
    "# OUSD"
   ]
  },
  {
   "cell_type": "code",
   "execution_count": 1,
   "metadata": {},
   "outputs": [],
   "source": [
    "import pandas as pd\n",
    "import numpy as np\n",
    "import matplotlib.pyplot as plt\n",
    "%matplotlib inline"
   ]
  },
  {
   "cell_type": "code",
   "execution_count": 2,
   "metadata": {},
   "outputs": [
    {
     "data": {
      "text/plain": [
       "['',\n",
       " 'C:\\\\Users\\\\Claudia\\\\Anaconda3\\\\python36.zip',\n",
       " 'C:\\\\Users\\\\Claudia\\\\Anaconda3\\\\DLLs',\n",
       " 'C:\\\\Users\\\\Claudia\\\\Anaconda3\\\\lib',\n",
       " 'C:\\\\Users\\\\Claudia\\\\Anaconda3',\n",
       " 'C:\\\\Users\\\\Claudia\\\\Anaconda3\\\\lib\\\\site-packages',\n",
       " 'C:\\\\Users\\\\Claudia\\\\Anaconda3\\\\lib\\\\site-packages\\\\sklearn_pandas-1.7.0-py3.6.egg',\n",
       " 'C:\\\\Users\\\\Claudia\\\\Anaconda3\\\\lib\\\\site-packages\\\\win32',\n",
       " 'C:\\\\Users\\\\Claudia\\\\Anaconda3\\\\lib\\\\site-packages\\\\win32\\\\lib',\n",
       " 'C:\\\\Users\\\\Claudia\\\\Anaconda3\\\\lib\\\\site-packages\\\\Pythonwin',\n",
       " 'C:\\\\Users\\\\Claudia\\\\Anaconda3\\\\lib\\\\site-packages\\\\IPython\\\\extensions',\n",
       " 'C:\\\\Users\\\\Claudia\\\\.ipython',\n",
       " 'C:\\\\Users\\\\Claudia\\\\Anaconda3\\\\envs\\\\py37']"
      ]
     },
     "execution_count": 2,
     "metadata": {},
     "output_type": "execute_result"
    }
   ],
   "source": [
    "import sys\n",
    "sys.path.append('C:\\\\Users\\\\Claudia\\\\Anaconda3\\\\envs\\\\py37')\n",
    "sys.path\n"
   ]
  },
  {
   "cell_type": "markdown",
   "metadata": {},
   "source": [
    "### Read Budget Data\n",
    "Remove rows not related to central offices"
   ]
  },
  {
   "cell_type": "code",
   "execution_count": 3,
   "metadata": {},
   "outputs": [
    {
     "data": {
      "text/html": [
       "<div>\n",
       "<style scoped>\n",
       "    .dataframe tbody tr th:only-of-type {\n",
       "        vertical-align: middle;\n",
       "    }\n",
       "\n",
       "    .dataframe tbody tr th {\n",
       "        vertical-align: top;\n",
       "    }\n",
       "\n",
       "    .dataframe thead th {\n",
       "        text-align: right;\n",
       "    }\n",
       "</style>\n",
       "<table border=\"1\" class=\"dataframe\">\n",
       "  <thead>\n",
       "    <tr style=\"text-align: right;\">\n",
       "      <th></th>\n",
       "      <th>Fund</th>\n",
       "      <th>Resource_Type</th>\n",
       "      <th>Resource</th>\n",
       "      <th>Site_Type</th>\n",
       "      <th>Site</th>\n",
       "      <th>Budget_Category</th>\n",
       "      <th>Budget</th>\n",
       "      <th>Actual_Spent</th>\n",
       "      <th>Encumbrance</th>\n",
       "      <th>Balance</th>\n",
       "    </tr>\n",
       "  </thead>\n",
       "  <tbody>\n",
       "    <tr>\n",
       "      <th>0</th>\n",
       "      <td>01 - GENERAL FUND</td>\n",
       "      <td>RESTRICTED</td>\n",
       "      <td>3010 - IASA-I BASIC GRANTS LOW INCOME</td>\n",
       "      <td>District Wide</td>\n",
       "      <td>999 - Districtwide Expenses</td>\n",
       "      <td>4392 - MID-YEAR ADJUSTMENT</td>\n",
       "      <td>($303,925)</td>\n",
       "      <td>$0</td>\n",
       "      <td>$0</td>\n",
       "      <td>($303,925.37)</td>\n",
       "    </tr>\n",
       "    <tr>\n",
       "      <th>1</th>\n",
       "      <td>01 - GENERAL FUND</td>\n",
       "      <td>RESTRICTED</td>\n",
       "      <td>3010 - IASA-I BASIC GRANTS LOW INCOME</td>\n",
       "      <td>District Wide</td>\n",
       "      <td>999 - Districtwide Expenses</td>\n",
       "      <td>4399 - SURPLUS</td>\n",
       "      <td>$0</td>\n",
       "      <td>$0</td>\n",
       "      <td>$0</td>\n",
       "      <td>$0.00</td>\n",
       "    </tr>\n",
       "    <tr>\n",
       "      <th>2</th>\n",
       "      <td>01 - GENERAL FUND</td>\n",
       "      <td>RESTRICTED</td>\n",
       "      <td>3010 - IASA-I BASIC GRANTS LOW INCOME</td>\n",
       "      <td>District Wide</td>\n",
       "      <td>999 - Districtwide Expenses</td>\n",
       "      <td>7310 - INTERPROGRAM SUPPORT/COSTS</td>\n",
       "      <td>$951,400</td>\n",
       "      <td>$0</td>\n",
       "      <td>$0</td>\n",
       "      <td>$951,400.00</td>\n",
       "    </tr>\n",
       "  </tbody>\n",
       "</table>\n",
       "</div>"
      ],
      "text/plain": [
       "                Fund Resource_Type                               Resource  \\\n",
       "0  01 - GENERAL FUND    RESTRICTED  3010 - IASA-I BASIC GRANTS LOW INCOME   \n",
       "1  01 - GENERAL FUND    RESTRICTED  3010 - IASA-I BASIC GRANTS LOW INCOME   \n",
       "2  01 - GENERAL FUND    RESTRICTED  3010 - IASA-I BASIC GRANTS LOW INCOME   \n",
       "\n",
       "       Site_Type                         Site  \\\n",
       "0  District Wide  999 - Districtwide Expenses   \n",
       "1  District Wide  999 - Districtwide Expenses   \n",
       "2  District Wide  999 - Districtwide Expenses   \n",
       "\n",
       "                     Budget_Category      Budget Actual_Spent Encumbrance  \\\n",
       "0         4392 - MID-YEAR ADJUSTMENT  ($303,925)          $0          $0    \n",
       "1                     4399 - SURPLUS         $0           $0          $0    \n",
       "2  7310 - INTERPROGRAM SUPPORT/COSTS   $951,400           $0          $0    \n",
       "\n",
       "         Balance  \n",
       "0  ($303,925.37)  \n",
       "1         $0.00   \n",
       "2   $951,400.00   "
      ]
     },
     "execution_count": 3,
     "metadata": {},
     "output_type": "execute_result"
    }
   ],
   "source": [
    "df = pd.read_csv('data/OUSD Budget Data.csv', skiprows = 1)\n",
    "df.columns = ['Fund', 'Resource_Type', 'Resource', 'Site_Type', 'Site', 'Budget_Category', 'Budget', 'Actual_Spent', 'Encumbrance', 'Balance']\n",
    "\n",
    "df = df[df['Site'].astype(str).str[0] == '9']  # Remove rows not related to central offices\n",
    "df.head(3)"
   ]
  },
  {
   "cell_type": "markdown",
   "metadata": {},
   "source": [
    "### Convert Budget and Actual_Spent Columns to Numeric Values"
   ]
  },
  {
   "cell_type": "code",
   "execution_count": 4,
   "metadata": {},
   "outputs": [],
   "source": [
    "# replace characters in Budget column that come from excel exports, leaving just the numbers\n",
    "df['Budget'] = df['Budget'].replace({'\\$':'', ',': '', \n",
    "                                     '\\)':'', '\\(':'-'\n",
    "                                    }, regex = True)\n",
    "\n",
    "df['Budget'].fillna(0, inplace=True)    # replace NaN values with 0\n",
    "df['Budget'] = df['Budget'].astype(int).fillna(0)    # convert Budget column to integer"
   ]
  },
  {
   "cell_type": "code",
   "execution_count": 5,
   "metadata": {},
   "outputs": [],
   "source": [
    "# replace characters in Actual_Spent column that come from excel exports, leaving just the numbers\n",
    "df['Actual_Spent'] = df['Actual_Spent'].replace({'\\$':'', ',': '', \n",
    "                                                 '\\)':'', '\\(':'-'\n",
    "                                                }, regex = True)\n",
    "\n",
    "df['Actual_Spent'].fillna(0, inplace=True)    # replace NaN values with 0\n",
    "df['Actual_Spent'] = df['Actual_Spent'].astype(int).fillna(0)    # convert Actual_Spent column to integer"
   ]
  },
  {
   "cell_type": "markdown",
   "metadata": {},
   "source": [
    "### Create a dataframe with one line per Site, summing Budget amounts for that Site"
   ]
  },
  {
   "cell_type": "code",
   "execution_count": 6,
   "metadata": {},
   "outputs": [
    {
     "data": {
      "text/html": [
       "<div>\n",
       "<style scoped>\n",
       "    .dataframe tbody tr th:only-of-type {\n",
       "        vertical-align: middle;\n",
       "    }\n",
       "\n",
       "    .dataframe tbody tr th {\n",
       "        vertical-align: top;\n",
       "    }\n",
       "\n",
       "    .dataframe thead th {\n",
       "        text-align: right;\n",
       "    }\n",
       "</style>\n",
       "<table border=\"1\" class=\"dataframe\">\n",
       "  <thead>\n",
       "    <tr style=\"text-align: right;\">\n",
       "      <th></th>\n",
       "      <th>Site</th>\n",
       "      <th>Budget</th>\n",
       "    </tr>\n",
       "  </thead>\n",
       "  <tbody>\n",
       "    <tr>\n",
       "      <th>0</th>\n",
       "      <td>901 - Chief Org Eff &amp; Cul.</td>\n",
       "      <td>708859</td>\n",
       "    </tr>\n",
       "    <tr>\n",
       "      <th>1</th>\n",
       "      <td>902 - Accounts Payable</td>\n",
       "      <td>895003</td>\n",
       "    </tr>\n",
       "    <tr>\n",
       "      <th>2</th>\n",
       "      <td>903 - Office of Chief Academic offic</td>\n",
       "      <td>1158483</td>\n",
       "    </tr>\n",
       "    <tr>\n",
       "      <th>3</th>\n",
       "      <td>905 - Office of Sr. Business Officer</td>\n",
       "      <td>536463</td>\n",
       "    </tr>\n",
       "    <tr>\n",
       "      <th>4</th>\n",
       "      <td>906 - Ombudsman</td>\n",
       "      <td>269540</td>\n",
       "    </tr>\n",
       "  </tbody>\n",
       "</table>\n",
       "</div>"
      ],
      "text/plain": [
       "                                   Site   Budget\n",
       "0            901 - Chief Org Eff & Cul.   708859\n",
       "1                902 - Accounts Payable   895003\n",
       "2  903 - Office of Chief Academic offic  1158483\n",
       "3  905 - Office of Sr. Business Officer   536463\n",
       "4                       906 - Ombudsman   269540"
      ]
     },
     "execution_count": 6,
     "metadata": {},
     "output_type": "execute_result"
    }
   ],
   "source": [
    "df_grouped = df.groupby('Site', as_index = False)[\"Budget\"].sum()\n",
    "df_grouped.head()"
   ]
  },
  {
   "cell_type": "markdown",
   "metadata": {},
   "source": [
    "### Read Principal Critical-Rating Data (partial at this point)\n",
    "I created a separate csv file mapping the categories in the principal's list to categories from budget data. There could be errors, and I could not determine a mapping for some categories."
   ]
  },
  {
   "cell_type": "code",
   "execution_count": 7,
   "metadata": {},
   "outputs": [
    {
     "data": {
      "text/html": [
       "<div>\n",
       "<style scoped>\n",
       "    .dataframe tbody tr th:only-of-type {\n",
       "        vertical-align: middle;\n",
       "    }\n",
       "\n",
       "    .dataframe tbody tr th {\n",
       "        vertical-align: top;\n",
       "    }\n",
       "\n",
       "    .dataframe thead th {\n",
       "        text-align: right;\n",
       "    }\n",
       "</style>\n",
       "<table border=\"1\" class=\"dataframe\">\n",
       "  <thead>\n",
       "    <tr style=\"text-align: right;\">\n",
       "      <th></th>\n",
       "      <th>Budget_Category</th>\n",
       "      <th>Principal_Category</th>\n",
       "      <th>Critical_Rating</th>\n",
       "    </tr>\n",
       "  </thead>\n",
       "  <tbody>\n",
       "    <tr>\n",
       "      <th>0</th>\n",
       "      <td>999 - Districtwide Expenses</td>\n",
       "      <td>NaN</td>\n",
       "      <td>NaN</td>\n",
       "    </tr>\n",
       "    <tr>\n",
       "      <th>1</th>\n",
       "      <td>998 - School Contingency Funds</td>\n",
       "      <td>NaN</td>\n",
       "      <td>NaN</td>\n",
       "    </tr>\n",
       "    <tr>\n",
       "      <th>2</th>\n",
       "      <td>995 - Transportation</td>\n",
       "      <td>Transportation</td>\n",
       "      <td>60.0</td>\n",
       "    </tr>\n",
       "    <tr>\n",
       "      <th>3</th>\n",
       "      <td>994 - OUSD Police Department</td>\n",
       "      <td>Police Services</td>\n",
       "      <td>54.0</td>\n",
       "    </tr>\n",
       "    <tr>\n",
       "      <th>4</th>\n",
       "      <td>992 - WAREHOUSE DISTRIBUTION</td>\n",
       "      <td>NaN</td>\n",
       "      <td>NaN</td>\n",
       "    </tr>\n",
       "  </tbody>\n",
       "</table>\n",
       "</div>"
      ],
      "text/plain": [
       "                  Budget_Category Principal_Category  Critical_Rating\n",
       "0     999 - Districtwide Expenses                NaN              NaN\n",
       "1  998 - School Contingency Funds                NaN              NaN\n",
       "2            995 - Transportation     Transportation             60.0\n",
       "3    994 - OUSD Police Department    Police Services             54.0\n",
       "4    992 - WAREHOUSE DISTRIBUTION                NaN              NaN"
      ]
     },
     "execution_count": 7,
     "metadata": {},
     "output_type": "execute_result"
    }
   ],
   "source": [
    "df_critical = pd.read_csv('data/map_budget_to_principal_list.csv')\n",
    "del df_critical[\"Notes\"]  # the notes column is irrelevant to this task, and is mostly NaN\n",
    "df_critical.head()"
   ]
  },
  {
   "cell_type": "markdown",
   "metadata": {},
   "source": [
    "### Merge in the Principal Critical Ratings"
   ]
  },
  {
   "cell_type": "code",
   "execution_count": 8,
   "metadata": {},
   "outputs": [
    {
     "data": {
      "text/html": [
       "<div>\n",
       "<style scoped>\n",
       "    .dataframe tbody tr th:only-of-type {\n",
       "        vertical-align: middle;\n",
       "    }\n",
       "\n",
       "    .dataframe tbody tr th {\n",
       "        vertical-align: top;\n",
       "    }\n",
       "\n",
       "    .dataframe thead th {\n",
       "        text-align: right;\n",
       "    }\n",
       "</style>\n",
       "<table border=\"1\" class=\"dataframe\">\n",
       "  <thead>\n",
       "    <tr style=\"text-align: right;\">\n",
       "      <th></th>\n",
       "      <th>Site</th>\n",
       "      <th>Budget</th>\n",
       "      <th>Budget_Category</th>\n",
       "      <th>Principal_Category</th>\n",
       "      <th>Critical_Rating</th>\n",
       "    </tr>\n",
       "  </thead>\n",
       "  <tbody>\n",
       "    <tr>\n",
       "      <th>0</th>\n",
       "      <td>901 - Chief Org Eff &amp; Cul.</td>\n",
       "      <td>708859.0</td>\n",
       "      <td>901 - Chief Org Eff &amp; Cul.</td>\n",
       "      <td>Organizational Effectiveness</td>\n",
       "      <td>17.0</td>\n",
       "    </tr>\n",
       "    <tr>\n",
       "      <th>1</th>\n",
       "      <td>902 - Accounts Payable</td>\n",
       "      <td>895003.0</td>\n",
       "      <td>902 - Accounts Payable</td>\n",
       "      <td>Accounts Payable</td>\n",
       "      <td>77.0</td>\n",
       "    </tr>\n",
       "    <tr>\n",
       "      <th>5</th>\n",
       "      <td>907 - Student Assignment</td>\n",
       "      <td>1787223.0</td>\n",
       "      <td>907 - Student Assignment</td>\n",
       "      <td>School Enrollment Office</td>\n",
       "      <td>75.0</td>\n",
       "    </tr>\n",
       "    <tr>\n",
       "      <th>6</th>\n",
       "      <td>909 - Teaching &amp; Learning</td>\n",
       "      <td>8403763.0</td>\n",
       "      <td>909 - Teaching &amp; Learning</td>\n",
       "      <td>Academics &amp; Instructional</td>\n",
       "      <td>45.0</td>\n",
       "    </tr>\n",
       "    <tr>\n",
       "      <th>7</th>\n",
       "      <td>910 - EARLY CHILDHOOD DEVELOPMENT</td>\n",
       "      <td>7484859.0</td>\n",
       "      <td>910 - EARLY CHILDHOOD DEVELOPMENT</td>\n",
       "      <td>Early Childhood</td>\n",
       "      <td>42.0</td>\n",
       "    </tr>\n",
       "  </tbody>\n",
       "</table>\n",
       "</div>"
      ],
      "text/plain": [
       "                                Site     Budget  \\\n",
       "0         901 - Chief Org Eff & Cul.   708859.0   \n",
       "1             902 - Accounts Payable   895003.0   \n",
       "5           907 - Student Assignment  1787223.0   \n",
       "6          909 - Teaching & Learning  8403763.0   \n",
       "7  910 - EARLY CHILDHOOD DEVELOPMENT  7484859.0   \n",
       "\n",
       "                     Budget_Category            Principal_Category  \\\n",
       "0         901 - Chief Org Eff & Cul.  Organizational Effectiveness   \n",
       "1             902 - Accounts Payable              Accounts Payable   \n",
       "5           907 - Student Assignment      School Enrollment Office   \n",
       "6          909 - Teaching & Learning     Academics & Instructional   \n",
       "7  910 - EARLY CHILDHOOD DEVELOPMENT               Early Childhood   \n",
       "\n",
       "   Critical_Rating  \n",
       "0             17.0  \n",
       "1             77.0  \n",
       "5             75.0  \n",
       "6             45.0  \n",
       "7             42.0  "
      ]
     },
     "execution_count": 8,
     "metadata": {},
     "output_type": "execute_result"
    }
   ],
   "source": [
    "df_with_critical = pd.merge(df_grouped, df_critical, how='right', \n",
    "                            left_on = 'Site', right_on = 'Budget_Category', \n",
    "                            left_index = False, right_index = False, sort=False)\n",
    "df_final = df_with_critical.dropna().copy()   # remove rows with no principal rating\n",
    "df_final.head()"
   ]
  },
  {
   "cell_type": "code",
   "execution_count": 9,
   "metadata": {},
   "outputs": [
    {
     "data": {
      "text/html": [
       "<div>\n",
       "<style scoped>\n",
       "    .dataframe tbody tr th:only-of-type {\n",
       "        vertical-align: middle;\n",
       "    }\n",
       "\n",
       "    .dataframe tbody tr th {\n",
       "        vertical-align: top;\n",
       "    }\n",
       "\n",
       "    .dataframe thead th {\n",
       "        text-align: right;\n",
       "    }\n",
       "</style>\n",
       "<table border=\"1\" class=\"dataframe\">\n",
       "  <thead>\n",
       "    <tr style=\"text-align: right;\">\n",
       "      <th></th>\n",
       "      <th>Site</th>\n",
       "      <th>Budget</th>\n",
       "      <th>Budget_Category</th>\n",
       "      <th>Principal_Category</th>\n",
       "      <th>Critical_Rating</th>\n",
       "      <th>Budget_Percent</th>\n",
       "    </tr>\n",
       "  </thead>\n",
       "  <tbody>\n",
       "    <tr>\n",
       "      <th>0</th>\n",
       "      <td>901 - Chief Org Eff &amp; Cul.</td>\n",
       "      <td>708859.0</td>\n",
       "      <td>901 - Chief Org Eff &amp; Cul.</td>\n",
       "      <td>Organizational Effectiveness</td>\n",
       "      <td>17.0</td>\n",
       "      <td>1.679712</td>\n",
       "    </tr>\n",
       "    <tr>\n",
       "      <th>1</th>\n",
       "      <td>902 - Accounts Payable</td>\n",
       "      <td>895003.0</td>\n",
       "      <td>902 - Accounts Payable</td>\n",
       "      <td>Accounts Payable</td>\n",
       "      <td>77.0</td>\n",
       "      <td>2.120799</td>\n",
       "    </tr>\n",
       "    <tr>\n",
       "      <th>5</th>\n",
       "      <td>907 - Student Assignment</td>\n",
       "      <td>1787223.0</td>\n",
       "      <td>907 - Student Assignment</td>\n",
       "      <td>School Enrollment Office</td>\n",
       "      <td>75.0</td>\n",
       "      <td>4.235003</td>\n",
       "    </tr>\n",
       "    <tr>\n",
       "      <th>6</th>\n",
       "      <td>909 - Teaching &amp; Learning</td>\n",
       "      <td>8403763.0</td>\n",
       "      <td>909 - Teaching &amp; Learning</td>\n",
       "      <td>Academics &amp; Instructional</td>\n",
       "      <td>45.0</td>\n",
       "      <td>19.913553</td>\n",
       "    </tr>\n",
       "    <tr>\n",
       "      <th>7</th>\n",
       "      <td>910 - EARLY CHILDHOOD DEVELOPMENT</td>\n",
       "      <td>7484859.0</td>\n",
       "      <td>910 - EARLY CHILDHOOD DEVELOPMENT</td>\n",
       "      <td>Early Childhood</td>\n",
       "      <td>42.0</td>\n",
       "      <td>17.736118</td>\n",
       "    </tr>\n",
       "  </tbody>\n",
       "</table>\n",
       "</div>"
      ],
      "text/plain": [
       "                                Site     Budget  \\\n",
       "0         901 - Chief Org Eff & Cul.   708859.0   \n",
       "1             902 - Accounts Payable   895003.0   \n",
       "5           907 - Student Assignment  1787223.0   \n",
       "6          909 - Teaching & Learning  8403763.0   \n",
       "7  910 - EARLY CHILDHOOD DEVELOPMENT  7484859.0   \n",
       "\n",
       "                     Budget_Category            Principal_Category  \\\n",
       "0         901 - Chief Org Eff & Cul.  Organizational Effectiveness   \n",
       "1             902 - Accounts Payable              Accounts Payable   \n",
       "5           907 - Student Assignment      School Enrollment Office   \n",
       "6          909 - Teaching & Learning     Academics & Instructional   \n",
       "7  910 - EARLY CHILDHOOD DEVELOPMENT               Early Childhood   \n",
       "\n",
       "   Critical_Rating  Budget_Percent  \n",
       "0             17.0        1.679712  \n",
       "1             77.0        2.120799  \n",
       "5             75.0        4.235003  \n",
       "6             45.0       19.913553  \n",
       "7             42.0       17.736118  "
      ]
     },
     "execution_count": 9,
     "metadata": {},
     "output_type": "execute_result"
    }
   ],
   "source": [
    "df_final['Budget_Percent'] = df_final['Budget'] / df_final['Budget'].sum() * 500\n",
    "df_final.head()\n",
    "\n",
    "# This produced a SettingWithCopyWarning. Explanation of this warning can be found at dataquest:\n",
    "# https://www.dataquest.io/blog/settingwithcopywarning/\n",
    "# The problem for me was that I was unknowingly working with a view of the dataset, not a copy. \n",
    "# Solution: force a copy when creating df_final in the cell above."
   ]
  },
  {
   "cell_type": "markdown",
   "metadata": {},
   "source": [
    "### Show Initial Plot - side-by-side bar chart"
   ]
  },
  {
   "cell_type": "code",
   "execution_count": 10,
   "metadata": {},
   "outputs": [
    {
     "data": {
      "image/png": "[encoded data removed]",
      "text/plain": [
       "<Figure size 1080x720 with 1 Axes>"
      ]
     },
     "metadata": {
      "needs_background": "light"
     },
     "output_type": "display_data"
    }
   ],
   "source": [
    "df_final = df_final.sort_values(by=['Critical_Rating'], ascending=False) \n",
    "ax = df_final[['Budget_Percent','Critical_Rating']].plot(kind='bar', title =\"Budget vs. Criticality\", \n",
    "                                                         figsize=(15, 10), legend=True, fontsize=12)\n",
    "ax.set_ylabel(\"Relative Values\", fontsize=12)\n",
    "ax.set_xticklabels(df_final['Site'])\n",
    "plt.show()"
   ]
  },
  {
   "cell_type": "markdown",
   "metadata": {},
   "source": [
    "#### Remove Outlier\n",
    "This category was quite a bit more in cost than any others and is 2nd from highest position in importance. It skews the scatter plot so that quadrants cannot be clearly demarcated. Outlier thus removed."
   ]
  },
  {
   "cell_type": "code",
   "execution_count": 11,
   "metadata": {},
   "outputs": [],
   "source": [
    "df_final = df_final[~df_final['Budget_Category'].str.startswith('975')] "
   ]
  },
  {
   "cell_type": "code",
   "execution_count": 12,
   "metadata": {},
   "outputs": [
    {
     "data": {
      "image/png": "[encoded data removed]",
      "text/plain": [
       "<Figure size 936x648 with 1 Axes>"
      ]
     },
     "metadata": {
      "needs_background": "light"
     },
     "output_type": "display_data"
    }
   ],
   "source": [
    "plt.rcParams['figure.figsize'] = (13.0, 9.0)\n",
    "colors = np.random.rand(len(df_final))\n",
    "\n",
    "plt.scatter(df_final['Budget'], df_final['Critical_Rating'], c=colors, s=600, alpha=0.5)  # , s=area, c=colors,\n",
    "plt.title('Cost vs. Value')\n",
    "plt.xlabel='Cost'\n",
    "plt.ylabel='Value'\n",
    "plt.grid()\n",
    "plt.show()\n"
   ]
  },
  {
   "cell_type": "code",
   "execution_count": 32,
   "metadata": {},
   "outputs": [],
   "source": [
    "json_obj = df_final.to_json(orient=\"records\")[1:]  \n",
    "json_obj = \"var data = [\" + json_obj \n",
    "with open('data/data.js', 'w') as f:\n",
    "    f.write(json_obj)"
   ]
  },
  {
   "cell_type": "code",
   "execution_count": 33,
   "metadata": {},
   "outputs": [
    {
     "name": "stdout",
     "output_type": "stream",
     "text": [
      "('var data = [{\"Site\":\"989 - Custodial '\n",
      " 'Services\",\"Budget\":1498145.0,\"Budget_Category\":\"989 - Custodial '\n",
      " 'Services\",\"Principal_Category\":\"Custodial '\n",
      " 'Services\",\"Critical_Rating\":94.0,\"Budget_Percent\":3.5500036513},{\"Site\":\"988 '\n",
      " '- Buildings & Grounds\",\"Budget\":14199558.0,\"Budget_Category\":\"988 - '\n",
      " 'Buildings & Grounds\",\"Principal_Category\":\"Building & '\n",
      " 'Grounds\",\"Critical_Rating\":88.0,\"Budget_Percent\":33.6472656165},{\"Site\":\"983 '\n",
      " '- Payroll\",\"Budget\":962511.0,\"Budget_Category\":\"983 - '\n",
      " 'Payroll\",\"Principal_Category\":\"Payroll\",\"Critical_Rating\":83.0,\"Budget_Percent\":2.2807655897},{\"Site\":\"944 '\n",
      " '- Human Resources Services, Supp\",\"Budget\":4761716.0,\"Budget_Category\":\"944 '\n",
      " '- Human Resources Services, '\n",
      " 'Supp\",\"Principal_Category\":\"Talent\",\"Critical_Rating\":83.0,\"Budget_Percent\":11.2833598794},{\"Site\":\"941 '\n",
      " '- Office of the Superintendent\",\"Budget\":1623061.0,\"Budget_Category\":\"941 - '\n",
      " 'Office of the Superintendent\",\"Principal_Category\":\"Superintendent\\'s '\n",
      " 'Office\",\"Critical_Rating\":82.0,\"Budget_Percent\":3.8460045432},{\"Site\":\"936 - '\n",
      " 'Accounting\",\"Budget\":1835213.0,\"Budget_Category\":\"936 - '\n",
      " 'Accounting\",\"Principal_Category\":\"Fiscal '\n",
      " 'Services\",\"Critical_Rating\":78.0,\"Budget_Percent\":4.3487198175},{\"Site\":\"991 '\n",
      " '- Food Service\",\"Budget\":6854385.0,\"Budget_Category\":\"991 - Food '\n",
      " 'Service\",\"Principal_Category\":\"Nutrition '\n",
      " 'Services\",\"Critical_Rating\":77.0,\"Budget_Percent\":16.2421473072},{\"Site\":\"902 '\n",
      " '- Accounts Payable\",\"Budget\":895003.0,\"Budget_Category\":\"902 - Accounts '\n",
      " 'Payable\",\"Principal_Category\":\"Accounts '\n",
      " 'Payable\",\"Critical_Rating\":77.0,\"Budget_Percent\":2.1207986663},{\"Site\":\"907 '\n",
      " '- Student Assignment\",\"Budget\":1787223.0,\"Budget_Category\":\"907 - Student '\n",
      " 'Assignment\",\"Principal_Category\":\"School Enrollment '\n",
      " 'Office\",\"Critical_Rating\":75.0,\"Budget_Percent\":4.2350027372},{\"Site\":\"968 - '\n",
      " 'Health Services (Nurses)\",\"Budget\":3676574.0,\"Budget_Category\":\"968 - Health '\n",
      " 'Services (Nurses)\",\"Principal_Category\":\"Health Services '\n",
      " '(Nurses)\",\"Critical_Rating\":74.0,\"Budget_Percent\":8.7120079327},{\"Site\":\"948 '\n",
      " '- Research Assessment & Data\",\"Budget\":2489433.0,\"Budget_Category\":\"948 - '\n",
      " 'Research Assessment & Data\",\"Principal_Category\":\"Research Assessment & '\n",
      " 'Data\",\"Critical_Rating\":71.0,\"Budget_Percent\":5.898959206},{\"Site\":\"942 - '\n",
      " 'Labor Relations\",\"Budget\":0.0,\"Budget_Category\":\"942 - Labor '\n",
      " 'Relations\",\"Principal_Category\":\"Legal & '\n",
      " 'Labor\",\"Critical_Rating\":70.0,\"Budget_Percent\":0.0},{\"Site\":\"946 - Legal '\n",
      " 'Counsel\",\"Budget\":1772408.0,\"Budget_Category\":\"946 - Legal '\n",
      " 'Counsel\",\"Principal_Category\":\"Legal & '\n",
      " 'Labor\",\"Critical_Rating\":70.0,\"Budget_Percent\":4.1998971205},{\"Site\":\"990 - '\n",
      " 'Procurement & Distribution\",\"Budget\":711192.0,\"Budget_Category\":\"990 - '\n",
      " 'Procurement & '\n",
      " 'Distribution\",\"Principal_Category\":\"Procurement\",\"Critical_Rating\":67.0,\"Budget_Percent\":1.6852402116},{\"Site\":\"954 '\n",
      " '- ENG LANG LRNR\\\\/MULTILINGUAL '\n",
      " 'ACH\",\"Budget\":4464195.0,\"Budget_Category\":\"954 - ENG LANG '\n",
      " 'LRNR\\\\/MULTILINGUAL '\n",
      " 'ACH\",\"Principal_Category\":\"ELLMA\",\"Critical_Rating\":66.0,\"Budget_Percent\":10.5783542649},{\"Site\":\"918 '\n",
      " '- Facilities Planning\",\"Budget\":25240993.0,\"Budget_Category\":\"918 - '\n",
      " 'Facilities Planning\",\"Principal_Category\":\"Facilities & '\n",
      " 'Planning\",\"Critical_Rating\":64.0,\"Budget_Percent\":59.8110445336},{\"Site\":\"995 '\n",
      " '- Transportation\",\"Budget\":12412575.0,\"Budget_Category\":\"995 - '\n",
      " 'Transportation\",\"Principal_Category\":\"Transportation\",\"Critical_Rating\":60.0,\"Budget_Percent\":29.4128315832},{\"Site\":\"994 '\n",
      " '- OUSD Police Department\",\"Budget\":2861021.0,\"Budget_Category\":\"994 - OUSD '\n",
      " 'Police Department\",\"Principal_Category\":\"Police '\n",
      " 'Services\",\"Critical_Rating\":54.0,\"Budget_Percent\":6.7794739471},{\"Site\":\"980 '\n",
      " '- CHIEF FINANCIAL OFFICER\",\"Budget\":381692.0,\"Budget_Category\":\"980 - CHIEF '\n",
      " 'FINANCIAL OFFICER\",\"Principal_Category\":\"Office of Controller & '\n",
      " 'Accounting\",\"Critical_Rating\":52.0,\"Budget_Percent\":0.9044571745},{\"Site\":\"987 '\n",
      " '- Risk Management\",\"Budget\":22452934.0,\"Budget_Category\":\"987 - Risk '\n",
      " 'Management\",\"Principal_Category\":\"Risk '\n",
      " 'Management\",\"Critical_Rating\":52.0,\"Budget_Percent\":53.2044613057},{\"Site\":\"950 '\n",
      " '- State and Federal Programs\",\"Budget\":1443987.0,\"Budget_Category\":\"950 - '\n",
      " 'State and Federal Programs\",\"Principal_Category\":\"State and '\n",
      " 'Federal\",\"Critical_Rating\":50.0,\"Budget_Percent\":3.4216708813},{\"Site\":\"937 '\n",
      " '- Summer Programs\",\"Budget\":2512995.0,\"Budget_Category\":\"937 - Summer '\n",
      " 'Programs\",\"Principal_Category\":\"Summer Learning '\n",
      " 'Programs\",\"Critical_Rating\":48.0,\"Budget_Percent\":5.9547917096},{\"Site\":\"922 '\n",
      " '- Comm. Schools & Student Servic\",\"Budget\":20621322.0,\"Budget_Category\":\"922 '\n",
      " '- Comm. Schools & Student Servic\",\"Principal_Category\":\"Community '\n",
      " 'Schools\",\"Critical_Rating\":47.0,\"Budget_Percent\":48.864274416},{\"Site\":\"909 '\n",
      " '- Teaching & Learning\",\"Budget\":8403763.0,\"Budget_Category\":\"909 - Teaching '\n",
      " '& Learning\",\"Principal_Category\":\"Academics & '\n",
      " 'Instructional\",\"Critical_Rating\":45.0,\"Budget_Percent\":19.91355265},{\"Site\":\"910 '\n",
      " '- EARLY CHILDHOOD DEVELOPMENT\",\"Budget\":7484859.0,\"Budget_Category\":\"910 - '\n",
      " 'EARLY CHILDHOOD DEVELOPMENT\",\"Principal_Category\":\"Early '\n",
      " 'Childhood\",\"Critical_Rating\":42.0,\"Budget_Percent\":17.7361181859},{\"Site\":\"958 '\n",
      " '- Communications\",\"Budget\":2356287.0,\"Budget_Category\":\"958 - '\n",
      " 'Communications\",\"Principal_Category\":\"Communications\",\"Critical_Rating\":34.0,\"Budget_Percent\":5.5834565102},{\"Site\":\"929 '\n",
      " '- OFFICE OF EQUITY\",\"Budget\":2181554.0,\"Budget_Category\":\"929 - OFFICE OF '\n",
      " 'EQUITY\",\"Principal_Category\":\"Office of '\n",
      " 'Equity\",\"Critical_Rating\":32.0,\"Budget_Percent\":5.1694092798},{\"Site\":\"915 - '\n",
      " 'EDUCATOR EFFECTIVE\",\"Budget\":2574796.0,\"Budget_Category\":\"915 - EDUCATOR '\n",
      " 'EFFECTIVE\",\"Principal_Category\":\"Organizational '\n",
      " 'Effectiveness\",\"Critical_Rating\":17.0,\"Budget_Percent\":6.1012353286},{\"Site\":\"901 '\n",
      " '- Chief Org Eff & Cul.\",\"Budget\":708859.0,\"Budget_Category\":\"901 - Chief Org '\n",
      " 'Eff & Cul.\",\"Principal_Category\":\"Organizational '\n",
      " 'Effectiveness\",\"Critical_Rating\":17.0,\"Budget_Percent\":1.6797119359},{\"Site\":\"956 '\n",
      " '- Continuous School Improvement\",\"Budget\":1346129.0,\"Budget_Category\":\"956 - '\n",
      " 'Continuous School Improvement\",\"Principal_Category\":\"Innovations '\n",
      " 'Office\",\"Critical_Rating\":10.0,\"Budget_Percent\":3.1897866129}]')\n"
     ]
    }
   ],
   "source": [
    "from pprint import pprint\n",
    "pprint(json_obj.replace('}, ', '}, \\n'))"
   ]
  },
  {
   "cell_type": "code",
   "execution_count": null,
   "metadata": {},
   "outputs": [],
   "source": []
  },
  {
   "cell_type": "code",
   "execution_count": null,
   "metadata": {},
   "outputs": [],
   "source": []
  }
 ],
 "metadata": {
  "kernelspec": {
   "display_name": "Python 3",
   "language": "python",
   "name": "python3"
  },
  "language_info": {
   "codemirror_mode": {
    "name": "ipython",
    "version": 3
   },
   "file_extension": ".py",
   "mimetype": "text/x-python",
   "name": "python",
   "nbconvert_exporter": "python",
   "pygments_lexer": "ipython3",
   "version": "3.6.6"
  }
 },
 "nbformat": 4,
 "nbformat_minor": 2
}
